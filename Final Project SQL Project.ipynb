{
 "cells": [
  {
   "cell_type": "markdown",
   "metadata": {},
   "source": [
    "# Project Description"
   ]
  },
  {
   "cell_type": "markdown",
   "metadata": {},
   "source": [
    "The coronavirus took the entire world by surprise, changing everyone's daily routine. City dwellers no longer spent their free time outside, going to cafes and malls; more people were at home, reading books. That attracted the attention of startups that rushed to develop new apps for book lovers. \n",
    "\n",
    "I have been given a database of one of the services competing in this market. It contains data on books, publishers, authors, and customer ratings and reviews of books. This information will be used to generate a value proposition for a new product. \n",
    "\n",
    "# Description of the data\n",
    "\n",
    "**books**\n",
    "\n",
    "Contains data on books:\n",
    "\n",
    "-  book_id\n",
    "-  author_id\n",
    "-  title\n",
    "-  num_page — number of pages\n",
    "-  publication_date\n",
    "-  publisher_id\n",
    "\n",
    "**authors**\n",
    "\n",
    "Contains data on authors:\n",
    "\n",
    "-  author_id\n",
    "-  author\n",
    "\n",
    "**publishers**\n",
    "\n",
    "Contains data on publishers:\n",
    "\n",
    "-  publisher_id \n",
    "-  publisher\n",
    "\n",
    "**ratings**\n",
    "\n",
    "Contains data on user ratings:\n",
    "\n",
    "-  rating_id\n",
    "-  book_id\n",
    "-  username — the name of the user who rated the book\n",
    "-  rating\n",
    "\n",
    "**reviews**\n",
    "\n",
    "Contains data on customer reviews:\n",
    "\n",
    "-  review_id\n",
    "-  book_id\n",
    "-  username — the name of the user who reviewed the book\n",
    "-  text — the text of the review"
   ]
  },
  {
   "cell_type": "markdown",
   "metadata": {},
   "source": [
    "# Project Goal"
   ]
  },
  {
   "cell_type": "markdown",
   "metadata": {},
   "source": [
    "My project goal is the following:\n",
    "\n",
    "- Find the number of books released after January 1, 2000.\n",
    "- Find the number of user reviews and the average rating for each book.\n",
    "- Identify the publisher that has released the greatest number of books with more than 50 pages (this will help you exclude brochures and similar publications from your analysis).\n",
    "- Identify the author with the highest average book rating (look only at books with at least 50 ratings).\n",
    "- Find the average number of text reviews among users who rated more than 50 books."
   ]
  },
  {
   "cell_type": "markdown",
   "metadata": {},
   "source": [
    "**Importing libraries**"
   ]
  },
  {
   "cell_type": "code",
   "execution_count": 1,
   "metadata": {},
   "outputs": [],
   "source": [
    "import pandas as pd\n",
    "from sqlalchemy import create_engine"
   ]
  },
  {
   "cell_type": "markdown",
   "metadata": {},
   "source": [
    "**Creating data base connection:**"
   ]
  },
  {
   "cell_type": "code",
   "execution_count": 2,
   "metadata": {},
   "outputs": [],
   "source": [
    "db_config = {'user': 'praktikum_student',         # user name\n",
    "             'pwd': 'Sdf4$2;d-d30pp', # password\n",
    "             'host': 'rc1b-wcoijxj3yxfsf3fs.mdb.yandexcloud.net',\n",
    "             'port': 6432,              # connection port\n",
    "             'db': 'data-analyst-final-project-db'}          # the name of the data base\n",
    "\n",
    "connection_string = 'postgresql://{}:{}@{}:{}/{}'.format(db_config['user'],\n",
    "                                                                     db_config['pwd'],\n",
    "                                                                       db_config['host'],\n",
    "                                                                       db_config['port'],\n",
    "                                                                       db_config['db'])\n",
    "\n",
    "engine = create_engine(connection_string, connect_args={'sslmode':'require'})"
   ]
  },
  {
   "cell_type": "markdown",
   "metadata": {},
   "source": [
    "**Downloading the \"books\" database:**"
   ]
  },
  {
   "cell_type": "code",
   "execution_count": 3,
   "metadata": {},
   "outputs": [
    {
     "data": {
      "text/html": [
       "<div>\n",
       "<style scoped>\n",
       "    .dataframe tbody tr th:only-of-type {\n",
       "        vertical-align: middle;\n",
       "    }\n",
       "\n",
       "    .dataframe tbody tr th {\n",
       "        vertical-align: top;\n",
       "    }\n",
       "\n",
       "    .dataframe thead th {\n",
       "        text-align: right;\n",
       "    }\n",
       "</style>\n",
       "<table border=\"1\" class=\"dataframe\">\n",
       "  <thead>\n",
       "    <tr style=\"text-align: right;\">\n",
       "      <th></th>\n",
       "      <th>book_id</th>\n",
       "      <th>author_id</th>\n",
       "      <th>title</th>\n",
       "      <th>num_pages</th>\n",
       "      <th>publication_date</th>\n",
       "      <th>publisher_id</th>\n",
       "    </tr>\n",
       "  </thead>\n",
       "  <tbody>\n",
       "    <tr>\n",
       "      <td>0</td>\n",
       "      <td>1</td>\n",
       "      <td>546</td>\n",
       "      <td>'Salem's Lot</td>\n",
       "      <td>594</td>\n",
       "      <td>2005-11-01</td>\n",
       "      <td>93</td>\n",
       "    </tr>\n",
       "    <tr>\n",
       "      <td>1</td>\n",
       "      <td>2</td>\n",
       "      <td>465</td>\n",
       "      <td>1 000 Places to See Before You Die</td>\n",
       "      <td>992</td>\n",
       "      <td>2003-05-22</td>\n",
       "      <td>336</td>\n",
       "    </tr>\n",
       "    <tr>\n",
       "      <td>2</td>\n",
       "      <td>3</td>\n",
       "      <td>407</td>\n",
       "      <td>13 Little Blue Envelopes (Little Blue Envelope...</td>\n",
       "      <td>322</td>\n",
       "      <td>2010-12-21</td>\n",
       "      <td>135</td>\n",
       "    </tr>\n",
       "    <tr>\n",
       "      <td>3</td>\n",
       "      <td>4</td>\n",
       "      <td>82</td>\n",
       "      <td>1491: New Revelations of the Americas Before C...</td>\n",
       "      <td>541</td>\n",
       "      <td>2006-10-10</td>\n",
       "      <td>309</td>\n",
       "    </tr>\n",
       "    <tr>\n",
       "      <td>4</td>\n",
       "      <td>5</td>\n",
       "      <td>125</td>\n",
       "      <td>1776</td>\n",
       "      <td>386</td>\n",
       "      <td>2006-07-04</td>\n",
       "      <td>268</td>\n",
       "    </tr>\n",
       "    <tr>\n",
       "      <td>...</td>\n",
       "      <td>...</td>\n",
       "      <td>...</td>\n",
       "      <td>...</td>\n",
       "      <td>...</td>\n",
       "      <td>...</td>\n",
       "      <td>...</td>\n",
       "    </tr>\n",
       "    <tr>\n",
       "      <td>995</td>\n",
       "      <td>996</td>\n",
       "      <td>571</td>\n",
       "      <td>Wyrd Sisters (Discworld  #6; Witches #2)</td>\n",
       "      <td>265</td>\n",
       "      <td>2001-02-06</td>\n",
       "      <td>147</td>\n",
       "    </tr>\n",
       "    <tr>\n",
       "      <td>996</td>\n",
       "      <td>997</td>\n",
       "      <td>454</td>\n",
       "      <td>Xenocide (Ender's Saga  #3)</td>\n",
       "      <td>592</td>\n",
       "      <td>1996-07-15</td>\n",
       "      <td>297</td>\n",
       "    </tr>\n",
       "    <tr>\n",
       "      <td>997</td>\n",
       "      <td>998</td>\n",
       "      <td>201</td>\n",
       "      <td>Year of Wonders</td>\n",
       "      <td>358</td>\n",
       "      <td>2002-04-30</td>\n",
       "      <td>212</td>\n",
       "    </tr>\n",
       "    <tr>\n",
       "      <td>998</td>\n",
       "      <td>999</td>\n",
       "      <td>94</td>\n",
       "      <td>You Suck (A Love Story  #2)</td>\n",
       "      <td>328</td>\n",
       "      <td>2007-01-16</td>\n",
       "      <td>331</td>\n",
       "    </tr>\n",
       "    <tr>\n",
       "      <td>999</td>\n",
       "      <td>1000</td>\n",
       "      <td>509</td>\n",
       "      <td>Zen and the Art of Motorcycle Maintenance: An ...</td>\n",
       "      <td>540</td>\n",
       "      <td>2006-04-25</td>\n",
       "      <td>143</td>\n",
       "    </tr>\n",
       "  </tbody>\n",
       "</table>\n",
       "<p>1000 rows × 6 columns</p>\n",
       "</div>"
      ],
      "text/plain": [
       "     book_id  author_id                                              title  \\\n",
       "0          1        546                                       'Salem's Lot   \n",
       "1          2        465                 1 000 Places to See Before You Die   \n",
       "2          3        407  13 Little Blue Envelopes (Little Blue Envelope...   \n",
       "3          4         82  1491: New Revelations of the Americas Before C...   \n",
       "4          5        125                                               1776   \n",
       "..       ...        ...                                                ...   \n",
       "995      996        571           Wyrd Sisters (Discworld  #6; Witches #2)   \n",
       "996      997        454                        Xenocide (Ender's Saga  #3)   \n",
       "997      998        201                                    Year of Wonders   \n",
       "998      999         94                        You Suck (A Love Story  #2)   \n",
       "999     1000        509  Zen and the Art of Motorcycle Maintenance: An ...   \n",
       "\n",
       "     num_pages publication_date  publisher_id  \n",
       "0          594       2005-11-01            93  \n",
       "1          992       2003-05-22           336  \n",
       "2          322       2010-12-21           135  \n",
       "3          541       2006-10-10           309  \n",
       "4          386       2006-07-04           268  \n",
       "..         ...              ...           ...  \n",
       "995        265       2001-02-06           147  \n",
       "996        592       1996-07-15           297  \n",
       "997        358       2002-04-30           212  \n",
       "998        328       2007-01-16           331  \n",
       "999        540       2006-04-25           143  \n",
       "\n",
       "[1000 rows x 6 columns]"
      ]
     },
     "execution_count": 3,
     "metadata": {},
     "output_type": "execute_result"
    }
   ],
   "source": [
    "query = ''' \n",
    "SELECT * FROM books\n",
    "\n",
    "        '''\n",
    "pd.io.sql.read_sql(query, con = engine)"
   ]
  },
  {
   "cell_type": "markdown",
   "metadata": {},
   "source": [
    "In the \"books\" database, there are 1000 rows and 6 columns. Columns name are \"book_id\", \"author_id\", \"title\", \"num_pages\", \"publication_date\" and \"publisher_id\"."
   ]
  },
  {
   "cell_type": "markdown",
   "metadata": {},
   "source": [
    "**Downloading the \"author\" database:**"
   ]
  },
  {
   "cell_type": "code",
   "execution_count": 4,
   "metadata": {},
   "outputs": [
    {
     "data": {
      "text/html": [
       "<div>\n",
       "<style scoped>\n",
       "    .dataframe tbody tr th:only-of-type {\n",
       "        vertical-align: middle;\n",
       "    }\n",
       "\n",
       "    .dataframe tbody tr th {\n",
       "        vertical-align: top;\n",
       "    }\n",
       "\n",
       "    .dataframe thead th {\n",
       "        text-align: right;\n",
       "    }\n",
       "</style>\n",
       "<table border=\"1\" class=\"dataframe\">\n",
       "  <thead>\n",
       "    <tr style=\"text-align: right;\">\n",
       "      <th></th>\n",
       "      <th>author_id</th>\n",
       "      <th>author</th>\n",
       "    </tr>\n",
       "  </thead>\n",
       "  <tbody>\n",
       "    <tr>\n",
       "      <td>0</td>\n",
       "      <td>1</td>\n",
       "      <td>A.S. Byatt</td>\n",
       "    </tr>\n",
       "    <tr>\n",
       "      <td>1</td>\n",
       "      <td>2</td>\n",
       "      <td>Aesop/Laura Harris/Laura Gibbs</td>\n",
       "    </tr>\n",
       "    <tr>\n",
       "      <td>2</td>\n",
       "      <td>3</td>\n",
       "      <td>Agatha Christie</td>\n",
       "    </tr>\n",
       "    <tr>\n",
       "      <td>3</td>\n",
       "      <td>4</td>\n",
       "      <td>Alan Brennert</td>\n",
       "    </tr>\n",
       "    <tr>\n",
       "      <td>4</td>\n",
       "      <td>5</td>\n",
       "      <td>Alan Moore/David   Lloyd</td>\n",
       "    </tr>\n",
       "    <tr>\n",
       "      <td>...</td>\n",
       "      <td>...</td>\n",
       "      <td>...</td>\n",
       "    </tr>\n",
       "    <tr>\n",
       "      <td>631</td>\n",
       "      <td>632</td>\n",
       "      <td>William Strunk Jr./E.B. White</td>\n",
       "    </tr>\n",
       "    <tr>\n",
       "      <td>632</td>\n",
       "      <td>633</td>\n",
       "      <td>Zadie Smith</td>\n",
       "    </tr>\n",
       "    <tr>\n",
       "      <td>633</td>\n",
       "      <td>634</td>\n",
       "      <td>Zilpha Keatley Snyder</td>\n",
       "    </tr>\n",
       "    <tr>\n",
       "      <td>634</td>\n",
       "      <td>635</td>\n",
       "      <td>Zora Neale Hurston</td>\n",
       "    </tr>\n",
       "    <tr>\n",
       "      <td>635</td>\n",
       "      <td>636</td>\n",
       "      <td>Åsne Seierstad/Ingrid Christopherson</td>\n",
       "    </tr>\n",
       "  </tbody>\n",
       "</table>\n",
       "<p>636 rows × 2 columns</p>\n",
       "</div>"
      ],
      "text/plain": [
       "     author_id                                author\n",
       "0            1                            A.S. Byatt\n",
       "1            2        Aesop/Laura Harris/Laura Gibbs\n",
       "2            3                       Agatha Christie\n",
       "3            4                         Alan Brennert\n",
       "4            5              Alan Moore/David   Lloyd\n",
       "..         ...                                   ...\n",
       "631        632         William Strunk Jr./E.B. White\n",
       "632        633                           Zadie Smith\n",
       "633        634                 Zilpha Keatley Snyder\n",
       "634        635                    Zora Neale Hurston\n",
       "635        636  Åsne Seierstad/Ingrid Christopherson\n",
       "\n",
       "[636 rows x 2 columns]"
      ]
     },
     "execution_count": 4,
     "metadata": {},
     "output_type": "execute_result"
    }
   ],
   "source": [
    "query = ''' \n",
    "SELECT * FROM authors\n",
    "\n",
    "        '''\n",
    "pd.io.sql.read_sql(query, con = engine)"
   ]
  },
  {
   "cell_type": "markdown",
   "metadata": {},
   "source": [
    "In the \"author\" database, there are 636 rows and 2 columns. Columns name are \"authod_id\" and \"author\"."
   ]
  },
  {
   "cell_type": "markdown",
   "metadata": {},
   "source": [
    "**Downloading the \"publishers\" database:**"
   ]
  },
  {
   "cell_type": "code",
   "execution_count": 5,
   "metadata": {},
   "outputs": [
    {
     "data": {
      "text/html": [
       "<div>\n",
       "<style scoped>\n",
       "    .dataframe tbody tr th:only-of-type {\n",
       "        vertical-align: middle;\n",
       "    }\n",
       "\n",
       "    .dataframe tbody tr th {\n",
       "        vertical-align: top;\n",
       "    }\n",
       "\n",
       "    .dataframe thead th {\n",
       "        text-align: right;\n",
       "    }\n",
       "</style>\n",
       "<table border=\"1\" class=\"dataframe\">\n",
       "  <thead>\n",
       "    <tr style=\"text-align: right;\">\n",
       "      <th></th>\n",
       "      <th>publisher_id</th>\n",
       "      <th>publisher</th>\n",
       "    </tr>\n",
       "  </thead>\n",
       "  <tbody>\n",
       "    <tr>\n",
       "      <td>0</td>\n",
       "      <td>1</td>\n",
       "      <td>Ace</td>\n",
       "    </tr>\n",
       "    <tr>\n",
       "      <td>1</td>\n",
       "      <td>2</td>\n",
       "      <td>Ace Book</td>\n",
       "    </tr>\n",
       "    <tr>\n",
       "      <td>2</td>\n",
       "      <td>3</td>\n",
       "      <td>Ace Books</td>\n",
       "    </tr>\n",
       "    <tr>\n",
       "      <td>3</td>\n",
       "      <td>4</td>\n",
       "      <td>Ace Hardcover</td>\n",
       "    </tr>\n",
       "    <tr>\n",
       "      <td>4</td>\n",
       "      <td>5</td>\n",
       "      <td>Addison Wesley Publishing Company</td>\n",
       "    </tr>\n",
       "    <tr>\n",
       "      <td>...</td>\n",
       "      <td>...</td>\n",
       "      <td>...</td>\n",
       "    </tr>\n",
       "    <tr>\n",
       "      <td>335</td>\n",
       "      <td>336</td>\n",
       "      <td>Workman Publishing Company</td>\n",
       "    </tr>\n",
       "    <tr>\n",
       "      <td>336</td>\n",
       "      <td>337</td>\n",
       "      <td>Wyatt Book</td>\n",
       "    </tr>\n",
       "    <tr>\n",
       "      <td>337</td>\n",
       "      <td>338</td>\n",
       "      <td>Yale University Press</td>\n",
       "    </tr>\n",
       "    <tr>\n",
       "      <td>338</td>\n",
       "      <td>339</td>\n",
       "      <td>Yearling</td>\n",
       "    </tr>\n",
       "    <tr>\n",
       "      <td>339</td>\n",
       "      <td>340</td>\n",
       "      <td>Yearling Books</td>\n",
       "    </tr>\n",
       "  </tbody>\n",
       "</table>\n",
       "<p>340 rows × 2 columns</p>\n",
       "</div>"
      ],
      "text/plain": [
       "     publisher_id                          publisher\n",
       "0               1                                Ace\n",
       "1               2                           Ace Book\n",
       "2               3                          Ace Books\n",
       "3               4                      Ace Hardcover\n",
       "4               5  Addison Wesley Publishing Company\n",
       "..            ...                                ...\n",
       "335           336         Workman Publishing Company\n",
       "336           337                         Wyatt Book\n",
       "337           338              Yale University Press\n",
       "338           339                           Yearling\n",
       "339           340                     Yearling Books\n",
       "\n",
       "[340 rows x 2 columns]"
      ]
     },
     "execution_count": 5,
     "metadata": {},
     "output_type": "execute_result"
    }
   ],
   "source": [
    "query = ''' \n",
    "SELECT * FROM publishers\n",
    "\n",
    "        '''\n",
    "pd.io.sql.read_sql(query, con = engine)"
   ]
  },
  {
   "cell_type": "markdown",
   "metadata": {},
   "source": [
    "In the \"publishers\" database, there are 340 rows and 2 columns. Columns are \"publisher_id\" and \"publisher\"."
   ]
  },
  {
   "cell_type": "markdown",
   "metadata": {},
   "source": [
    "**Downloading the \"ratings\" database:**"
   ]
  },
  {
   "cell_type": "code",
   "execution_count": 6,
   "metadata": {},
   "outputs": [
    {
     "data": {
      "text/html": [
       "<div>\n",
       "<style scoped>\n",
       "    .dataframe tbody tr th:only-of-type {\n",
       "        vertical-align: middle;\n",
       "    }\n",
       "\n",
       "    .dataframe tbody tr th {\n",
       "        vertical-align: top;\n",
       "    }\n",
       "\n",
       "    .dataframe thead th {\n",
       "        text-align: right;\n",
       "    }\n",
       "</style>\n",
       "<table border=\"1\" class=\"dataframe\">\n",
       "  <thead>\n",
       "    <tr style=\"text-align: right;\">\n",
       "      <th></th>\n",
       "      <th>rating_id</th>\n",
       "      <th>book_id</th>\n",
       "      <th>username</th>\n",
       "      <th>rating</th>\n",
       "    </tr>\n",
       "  </thead>\n",
       "  <tbody>\n",
       "    <tr>\n",
       "      <td>0</td>\n",
       "      <td>1</td>\n",
       "      <td>1</td>\n",
       "      <td>ryanfranco</td>\n",
       "      <td>4</td>\n",
       "    </tr>\n",
       "    <tr>\n",
       "      <td>1</td>\n",
       "      <td>2</td>\n",
       "      <td>1</td>\n",
       "      <td>grantpatricia</td>\n",
       "      <td>2</td>\n",
       "    </tr>\n",
       "    <tr>\n",
       "      <td>2</td>\n",
       "      <td>3</td>\n",
       "      <td>1</td>\n",
       "      <td>brandtandrea</td>\n",
       "      <td>5</td>\n",
       "    </tr>\n",
       "    <tr>\n",
       "      <td>3</td>\n",
       "      <td>4</td>\n",
       "      <td>2</td>\n",
       "      <td>lorichen</td>\n",
       "      <td>3</td>\n",
       "    </tr>\n",
       "    <tr>\n",
       "      <td>4</td>\n",
       "      <td>5</td>\n",
       "      <td>2</td>\n",
       "      <td>mariokeller</td>\n",
       "      <td>2</td>\n",
       "    </tr>\n",
       "    <tr>\n",
       "      <td>...</td>\n",
       "      <td>...</td>\n",
       "      <td>...</td>\n",
       "      <td>...</td>\n",
       "      <td>...</td>\n",
       "    </tr>\n",
       "    <tr>\n",
       "      <td>6451</td>\n",
       "      <td>6452</td>\n",
       "      <td>1000</td>\n",
       "      <td>carolrodriguez</td>\n",
       "      <td>4</td>\n",
       "    </tr>\n",
       "    <tr>\n",
       "      <td>6452</td>\n",
       "      <td>6453</td>\n",
       "      <td>1000</td>\n",
       "      <td>wendy18</td>\n",
       "      <td>4</td>\n",
       "    </tr>\n",
       "    <tr>\n",
       "      <td>6453</td>\n",
       "      <td>6454</td>\n",
       "      <td>1000</td>\n",
       "      <td>jarvispaul</td>\n",
       "      <td>5</td>\n",
       "    </tr>\n",
       "    <tr>\n",
       "      <td>6454</td>\n",
       "      <td>6455</td>\n",
       "      <td>1000</td>\n",
       "      <td>zross</td>\n",
       "      <td>2</td>\n",
       "    </tr>\n",
       "    <tr>\n",
       "      <td>6455</td>\n",
       "      <td>6456</td>\n",
       "      <td>1000</td>\n",
       "      <td>fharris</td>\n",
       "      <td>5</td>\n",
       "    </tr>\n",
       "  </tbody>\n",
       "</table>\n",
       "<p>6456 rows × 4 columns</p>\n",
       "</div>"
      ],
      "text/plain": [
       "      rating_id  book_id        username  rating\n",
       "0             1        1      ryanfranco       4\n",
       "1             2        1   grantpatricia       2\n",
       "2             3        1    brandtandrea       5\n",
       "3             4        2        lorichen       3\n",
       "4             5        2     mariokeller       2\n",
       "...         ...      ...             ...     ...\n",
       "6451       6452     1000  carolrodriguez       4\n",
       "6452       6453     1000         wendy18       4\n",
       "6453       6454     1000      jarvispaul       5\n",
       "6454       6455     1000           zross       2\n",
       "6455       6456     1000         fharris       5\n",
       "\n",
       "[6456 rows x 4 columns]"
      ]
     },
     "execution_count": 6,
     "metadata": {},
     "output_type": "execute_result"
    }
   ],
   "source": [
    "query = ''' \n",
    "SELECT * FROM ratings\n",
    "\n",
    "        '''\n",
    "pd.io.sql.read_sql(query, con = engine)"
   ]
  },
  {
   "cell_type": "markdown",
   "metadata": {},
   "source": [
    "In the \"ratings\" database, there are 6456 rows and 4 columns. Columns name are \"rating_id\", \"book_id\", \"username\" and \"rating\"."
   ]
  },
  {
   "cell_type": "markdown",
   "metadata": {},
   "source": [
    "**Downloading the \"reviews\" database:**"
   ]
  },
  {
   "cell_type": "code",
   "execution_count": 7,
   "metadata": {},
   "outputs": [
    {
     "data": {
      "text/html": [
       "<div>\n",
       "<style scoped>\n",
       "    .dataframe tbody tr th:only-of-type {\n",
       "        vertical-align: middle;\n",
       "    }\n",
       "\n",
       "    .dataframe tbody tr th {\n",
       "        vertical-align: top;\n",
       "    }\n",
       "\n",
       "    .dataframe thead th {\n",
       "        text-align: right;\n",
       "    }\n",
       "</style>\n",
       "<table border=\"1\" class=\"dataframe\">\n",
       "  <thead>\n",
       "    <tr style=\"text-align: right;\">\n",
       "      <th></th>\n",
       "      <th>review_id</th>\n",
       "      <th>book_id</th>\n",
       "      <th>username</th>\n",
       "      <th>text</th>\n",
       "    </tr>\n",
       "  </thead>\n",
       "  <tbody>\n",
       "    <tr>\n",
       "      <td>0</td>\n",
       "      <td>1</td>\n",
       "      <td>1</td>\n",
       "      <td>brandtandrea</td>\n",
       "      <td>Mention society tell send professor analysis. ...</td>\n",
       "    </tr>\n",
       "    <tr>\n",
       "      <td>1</td>\n",
       "      <td>2</td>\n",
       "      <td>1</td>\n",
       "      <td>ryanfranco</td>\n",
       "      <td>Foot glass pretty audience hit themselves. Amo...</td>\n",
       "    </tr>\n",
       "    <tr>\n",
       "      <td>2</td>\n",
       "      <td>3</td>\n",
       "      <td>2</td>\n",
       "      <td>lorichen</td>\n",
       "      <td>Listen treat keep worry. Miss husband tax but ...</td>\n",
       "    </tr>\n",
       "    <tr>\n",
       "      <td>3</td>\n",
       "      <td>4</td>\n",
       "      <td>3</td>\n",
       "      <td>johnsonamanda</td>\n",
       "      <td>Finally month interesting blue could nature cu...</td>\n",
       "    </tr>\n",
       "    <tr>\n",
       "      <td>4</td>\n",
       "      <td>5</td>\n",
       "      <td>3</td>\n",
       "      <td>scotttamara</td>\n",
       "      <td>Nation purpose heavy give wait song will. List...</td>\n",
       "    </tr>\n",
       "    <tr>\n",
       "      <td>...</td>\n",
       "      <td>...</td>\n",
       "      <td>...</td>\n",
       "      <td>...</td>\n",
       "      <td>...</td>\n",
       "    </tr>\n",
       "    <tr>\n",
       "      <td>2788</td>\n",
       "      <td>2789</td>\n",
       "      <td>999</td>\n",
       "      <td>martinadam</td>\n",
       "      <td>Later hospital turn easy community. Fact same ...</td>\n",
       "    </tr>\n",
       "    <tr>\n",
       "      <td>2789</td>\n",
       "      <td>2790</td>\n",
       "      <td>1000</td>\n",
       "      <td>wknight</td>\n",
       "      <td>Change lose answer close pressure. Spend so now.</td>\n",
       "    </tr>\n",
       "    <tr>\n",
       "      <td>2790</td>\n",
       "      <td>2791</td>\n",
       "      <td>1000</td>\n",
       "      <td>carolrodriguez</td>\n",
       "      <td>Authority go who television entire hair guy po...</td>\n",
       "    </tr>\n",
       "    <tr>\n",
       "      <td>2791</td>\n",
       "      <td>2792</td>\n",
       "      <td>1000</td>\n",
       "      <td>wendy18</td>\n",
       "      <td>Or western offer wonder ask. More hear phone f...</td>\n",
       "    </tr>\n",
       "    <tr>\n",
       "      <td>2792</td>\n",
       "      <td>2793</td>\n",
       "      <td>1000</td>\n",
       "      <td>jarvispaul</td>\n",
       "      <td>Republican staff bit eat material measure plan...</td>\n",
       "    </tr>\n",
       "  </tbody>\n",
       "</table>\n",
       "<p>2793 rows × 4 columns</p>\n",
       "</div>"
      ],
      "text/plain": [
       "      review_id  book_id        username  \\\n",
       "0             1        1    brandtandrea   \n",
       "1             2        1      ryanfranco   \n",
       "2             3        2        lorichen   \n",
       "3             4        3   johnsonamanda   \n",
       "4             5        3     scotttamara   \n",
       "...         ...      ...             ...   \n",
       "2788       2789      999      martinadam   \n",
       "2789       2790     1000         wknight   \n",
       "2790       2791     1000  carolrodriguez   \n",
       "2791       2792     1000         wendy18   \n",
       "2792       2793     1000      jarvispaul   \n",
       "\n",
       "                                                   text  \n",
       "0     Mention society tell send professor analysis. ...  \n",
       "1     Foot glass pretty audience hit themselves. Amo...  \n",
       "2     Listen treat keep worry. Miss husband tax but ...  \n",
       "3     Finally month interesting blue could nature cu...  \n",
       "4     Nation purpose heavy give wait song will. List...  \n",
       "...                                                 ...  \n",
       "2788  Later hospital turn easy community. Fact same ...  \n",
       "2789   Change lose answer close pressure. Spend so now.  \n",
       "2790  Authority go who television entire hair guy po...  \n",
       "2791  Or western offer wonder ask. More hear phone f...  \n",
       "2792  Republican staff bit eat material measure plan...  \n",
       "\n",
       "[2793 rows x 4 columns]"
      ]
     },
     "execution_count": 7,
     "metadata": {},
     "output_type": "execute_result"
    }
   ],
   "source": [
    "query = ''' \n",
    "SELECT * FROM reviews\n",
    "\n",
    "        '''\n",
    "pd.io.sql.read_sql(query, con = engine)"
   ]
  },
  {
   "cell_type": "markdown",
   "metadata": {},
   "source": [
    "In the reviews database, there are 2793 rows and 4 columns. Columns name are \"review_id\", \"book_id\", \"username\" and \"text\"."
   ]
  },
  {
   "cell_type": "markdown",
   "metadata": {},
   "source": [
    "**Finding the number of books released after January 1, 2000:**"
   ]
  },
  {
   "cell_type": "code",
   "execution_count": 8,
   "metadata": {},
   "outputs": [
    {
     "data": {
      "text/html": [
       "<div>\n",
       "<style scoped>\n",
       "    .dataframe tbody tr th:only-of-type {\n",
       "        vertical-align: middle;\n",
       "    }\n",
       "\n",
       "    .dataframe tbody tr th {\n",
       "        vertical-align: top;\n",
       "    }\n",
       "\n",
       "    .dataframe thead th {\n",
       "        text-align: right;\n",
       "    }\n",
       "</style>\n",
       "<table border=\"1\" class=\"dataframe\">\n",
       "  <thead>\n",
       "    <tr style=\"text-align: right;\">\n",
       "      <th></th>\n",
       "      <th>count</th>\n",
       "    </tr>\n",
       "  </thead>\n",
       "  <tbody>\n",
       "    <tr>\n",
       "      <td>0</td>\n",
       "      <td>819</td>\n",
       "    </tr>\n",
       "  </tbody>\n",
       "</table>\n",
       "</div>"
      ],
      "text/plain": [
       "   count\n",
       "0    819"
      ]
     },
     "execution_count": 8,
     "metadata": {},
     "output_type": "execute_result"
    }
   ],
   "source": [
    "query = ''' \n",
    "SELECT\n",
    "    COUNT(*)\n",
    "FROM\n",
    "    books\n",
    "WHERE\n",
    "    publication_date > '2000-01-01';\n",
    "\n",
    "        '''\n",
    "pd.io.sql.read_sql(query, con = engine)"
   ]
  },
  {
   "cell_type": "markdown",
   "metadata": {},
   "source": [
    "The number of released  books are 819 after January 1, 2000."
   ]
  },
  {
   "cell_type": "markdown",
   "metadata": {},
   "source": [
    "**Finding the number of user reviews and the average rating for each book:**"
   ]
  },
  {
   "cell_type": "code",
   "execution_count": 9,
   "metadata": {},
   "outputs": [
    {
     "data": {
      "text/html": [
       "<div>\n",
       "<style scoped>\n",
       "    .dataframe tbody tr th:only-of-type {\n",
       "        vertical-align: middle;\n",
       "    }\n",
       "\n",
       "    .dataframe tbody tr th {\n",
       "        vertical-align: top;\n",
       "    }\n",
       "\n",
       "    .dataframe thead th {\n",
       "        text-align: right;\n",
       "    }\n",
       "</style>\n",
       "<table border=\"1\" class=\"dataframe\">\n",
       "  <thead>\n",
       "    <tr style=\"text-align: right;\">\n",
       "      <th></th>\n",
       "      <th>book_title</th>\n",
       "      <th>review_num</th>\n",
       "      <th>mean_rating</th>\n",
       "    </tr>\n",
       "  </thead>\n",
       "  <tbody>\n",
       "    <tr>\n",
       "      <td>0</td>\n",
       "      <td>Twilight (Twilight  #1)</td>\n",
       "      <td>1120</td>\n",
       "      <td>3.662500</td>\n",
       "    </tr>\n",
       "    <tr>\n",
       "      <td>1</td>\n",
       "      <td>The Hobbit  or There and Back Again</td>\n",
       "      <td>528</td>\n",
       "      <td>4.125000</td>\n",
       "    </tr>\n",
       "    <tr>\n",
       "      <td>2</td>\n",
       "      <td>The Catcher in the Rye</td>\n",
       "      <td>516</td>\n",
       "      <td>3.825581</td>\n",
       "    </tr>\n",
       "    <tr>\n",
       "      <td>3</td>\n",
       "      <td>Harry Potter and the Prisoner of Azkaban (Harr...</td>\n",
       "      <td>492</td>\n",
       "      <td>4.414634</td>\n",
       "    </tr>\n",
       "    <tr>\n",
       "      <td>4</td>\n",
       "      <td>Harry Potter and the Chamber of Secrets (Harry...</td>\n",
       "      <td>480</td>\n",
       "      <td>4.287500</td>\n",
       "    </tr>\n",
       "    <tr>\n",
       "      <td>...</td>\n",
       "      <td>...</td>\n",
       "      <td>...</td>\n",
       "      <td>...</td>\n",
       "    </tr>\n",
       "    <tr>\n",
       "      <td>988</td>\n",
       "      <td>The Adventures of Tom Sawyer and Adventures of...</td>\n",
       "      <td>2</td>\n",
       "      <td>5.000000</td>\n",
       "    </tr>\n",
       "    <tr>\n",
       "      <td>989</td>\n",
       "      <td>History of Beauty</td>\n",
       "      <td>2</td>\n",
       "      <td>2.500000</td>\n",
       "    </tr>\n",
       "    <tr>\n",
       "      <td>990</td>\n",
       "      <td>Lysistrata</td>\n",
       "      <td>2</td>\n",
       "      <td>4.000000</td>\n",
       "    </tr>\n",
       "    <tr>\n",
       "      <td>991</td>\n",
       "      <td>Executive Orders (Jack Ryan  #8)</td>\n",
       "      <td>2</td>\n",
       "      <td>3.500000</td>\n",
       "    </tr>\n",
       "    <tr>\n",
       "      <td>992</td>\n",
       "      <td>Dragons of Winter Night (Dragonlance: Chronicl...</td>\n",
       "      <td>2</td>\n",
       "      <td>4.000000</td>\n",
       "    </tr>\n",
       "  </tbody>\n",
       "</table>\n",
       "<p>993 rows × 3 columns</p>\n",
       "</div>"
      ],
      "text/plain": [
       "                                            book_title  review_num  \\\n",
       "0                              Twilight (Twilight  #1)        1120   \n",
       "1                  The Hobbit  or There and Back Again         528   \n",
       "2                               The Catcher in the Rye         516   \n",
       "3    Harry Potter and the Prisoner of Azkaban (Harr...         492   \n",
       "4    Harry Potter and the Chamber of Secrets (Harry...         480   \n",
       "..                                                 ...         ...   \n",
       "988  The Adventures of Tom Sawyer and Adventures of...           2   \n",
       "989                                  History of Beauty           2   \n",
       "990                                         Lysistrata           2   \n",
       "991                   Executive Orders (Jack Ryan  #8)           2   \n",
       "992  Dragons of Winter Night (Dragonlance: Chronicl...           2   \n",
       "\n",
       "     mean_rating  \n",
       "0       3.662500  \n",
       "1       4.125000  \n",
       "2       3.825581  \n",
       "3       4.414634  \n",
       "4       4.287500  \n",
       "..           ...  \n",
       "988     5.000000  \n",
       "989     2.500000  \n",
       "990     4.000000  \n",
       "991     3.500000  \n",
       "992     4.000000  \n",
       "\n",
       "[993 rows x 3 columns]"
      ]
     },
     "execution_count": 9,
     "metadata": {},
     "output_type": "execute_result"
    }
   ],
   "source": [
    "query = ''' \n",
    "SELECT\n",
    "    books.title as book_title,\n",
    "    COUNT(*) AS review_num,\n",
    "    AVG(rating) as mean_rating\n",
    "FROM\n",
    "    books\n",
    "    INNER JOIN ratings ON ratings.book_id = books.book_id\n",
    "    INNER JOIN reviews ON reviews.book_id = books.book_id\n",
    "GROUP BY \n",
    "    book_title\n",
    "ORDER BY \n",
    "    review_num DESC;\n",
    "    '''\n",
    "pd.io.sql.read_sql(query, con = engine)"
   ]
  },
  {
   "cell_type": "markdown",
   "metadata": {},
   "source": [
    "book_title \"Twilight\" has the 1120 reviews and mean rating is 3.67."
   ]
  },
  {
   "cell_type": "markdown",
   "metadata": {},
   "source": [
    "**Identify the publisher that has released the greatest number of books with more than 50 pages:**"
   ]
  },
  {
   "cell_type": "code",
   "execution_count": 10,
   "metadata": {},
   "outputs": [
    {
     "data": {
      "text/html": [
       "<div>\n",
       "<style scoped>\n",
       "    .dataframe tbody tr th:only-of-type {\n",
       "        vertical-align: middle;\n",
       "    }\n",
       "\n",
       "    .dataframe tbody tr th {\n",
       "        vertical-align: top;\n",
       "    }\n",
       "\n",
       "    .dataframe thead th {\n",
       "        text-align: right;\n",
       "    }\n",
       "</style>\n",
       "<table border=\"1\" class=\"dataframe\">\n",
       "  <thead>\n",
       "    <tr style=\"text-align: right;\">\n",
       "      <th></th>\n",
       "      <th>publisher_id</th>\n",
       "      <th>count</th>\n",
       "      <th>publisher</th>\n",
       "    </tr>\n",
       "  </thead>\n",
       "  <tbody>\n",
       "    <tr>\n",
       "      <td>0</td>\n",
       "      <td>212</td>\n",
       "      <td>42</td>\n",
       "      <td>Penguin Books</td>\n",
       "    </tr>\n",
       "  </tbody>\n",
       "</table>\n",
       "</div>"
      ],
      "text/plain": [
       "   publisher_id  count      publisher\n",
       "0           212     42  Penguin Books"
      ]
     },
     "execution_count": 10,
     "metadata": {},
     "output_type": "execute_result"
    }
   ],
   "source": [
    "query = ''' \n",
    "SELECT\n",
    "    books.publisher_id,\n",
    "    COUNT(books.publisher_id),\n",
    "    publishers.publisher AS publisher\n",
    "FROM\n",
    "    books\n",
    "    INNER JOIN publishers ON publishers.publisher_id = books.publisher_id\n",
    "WHERE\n",
    "    num_pages > 50\n",
    "GROUP BY\n",
    "    books.publisher_id,\n",
    "    publisher\n",
    "ORDER BY \n",
    "    count DESC\n",
    "Limit 1;\n",
    "    \n",
    "\n",
    "    \n",
    "        '''\n",
    "pd.io.sql.read_sql(query, con = engine)"
   ]
  },
  {
   "cell_type": "markdown",
   "metadata": {},
   "source": [
    "\"Penguin Books\" has released 42 books with more than 50 pages."
   ]
  },
  {
   "cell_type": "markdown",
   "metadata": {},
   "source": [
    "**Identifying the author with the highest average book rating (look only at books with at least 50 ratings)**"
   ]
  },
  {
   "cell_type": "code",
   "execution_count": 11,
   "metadata": {},
   "outputs": [
    {
     "data": {
      "text/html": [
       "<div>\n",
       "<style scoped>\n",
       "    .dataframe tbody tr th:only-of-type {\n",
       "        vertical-align: middle;\n",
       "    }\n",
       "\n",
       "    .dataframe tbody tr th {\n",
       "        vertical-align: top;\n",
       "    }\n",
       "\n",
       "    .dataframe thead th {\n",
       "        text-align: right;\n",
       "    }\n",
       "</style>\n",
       "<table border=\"1\" class=\"dataframe\">\n",
       "  <thead>\n",
       "    <tr style=\"text-align: right;\">\n",
       "      <th></th>\n",
       "      <th>author</th>\n",
       "      <th>average_rating</th>\n",
       "    </tr>\n",
       "  </thead>\n",
       "  <tbody>\n",
       "    <tr>\n",
       "      <td>0</td>\n",
       "      <td>J.K. Rowling/Mary GrandPré</td>\n",
       "      <td>4.288462</td>\n",
       "    </tr>\n",
       "    <tr>\n",
       "      <td>1</td>\n",
       "      <td>Agatha Christie</td>\n",
       "      <td>4.283019</td>\n",
       "    </tr>\n",
       "    <tr>\n",
       "      <td>2</td>\n",
       "      <td>Markus Zusak/Cao Xuân Việt Khương</td>\n",
       "      <td>4.264151</td>\n",
       "    </tr>\n",
       "    <tr>\n",
       "      <td>3</td>\n",
       "      <td>J.R.R. Tolkien</td>\n",
       "      <td>4.240964</td>\n",
       "    </tr>\n",
       "    <tr>\n",
       "      <td>4</td>\n",
       "      <td>Roald Dahl/Quentin Blake</td>\n",
       "      <td>4.209677</td>\n",
       "    </tr>\n",
       "    <tr>\n",
       "      <td>5</td>\n",
       "      <td>Louisa May Alcott</td>\n",
       "      <td>4.203704</td>\n",
       "    </tr>\n",
       "    <tr>\n",
       "      <td>6</td>\n",
       "      <td>Rick Riordan</td>\n",
       "      <td>4.130952</td>\n",
       "    </tr>\n",
       "    <tr>\n",
       "      <td>7</td>\n",
       "      <td>Arthur Golden</td>\n",
       "      <td>4.107143</td>\n",
       "    </tr>\n",
       "    <tr>\n",
       "      <td>8</td>\n",
       "      <td>Stephen King</td>\n",
       "      <td>4.009434</td>\n",
       "    </tr>\n",
       "    <tr>\n",
       "      <td>9</td>\n",
       "      <td>John Grisham</td>\n",
       "      <td>3.971429</td>\n",
       "    </tr>\n",
       "    <tr>\n",
       "      <td>10</td>\n",
       "      <td>William Golding</td>\n",
       "      <td>3.901408</td>\n",
       "    </tr>\n",
       "    <tr>\n",
       "      <td>11</td>\n",
       "      <td>Nicholas Sparks</td>\n",
       "      <td>3.882883</td>\n",
       "    </tr>\n",
       "    <tr>\n",
       "      <td>12</td>\n",
       "      <td>Jodi Picoult</td>\n",
       "      <td>3.881579</td>\n",
       "    </tr>\n",
       "    <tr>\n",
       "      <td>13</td>\n",
       "      <td>Sophie Kinsella</td>\n",
       "      <td>3.877193</td>\n",
       "    </tr>\n",
       "    <tr>\n",
       "      <td>14</td>\n",
       "      <td>James Patterson</td>\n",
       "      <td>3.859375</td>\n",
       "    </tr>\n",
       "    <tr>\n",
       "      <td>15</td>\n",
       "      <td>J.D. Salinger</td>\n",
       "      <td>3.846939</td>\n",
       "    </tr>\n",
       "    <tr>\n",
       "      <td>16</td>\n",
       "      <td>Paulo Coelho/Alan R. Clarke/Özdemir İnce</td>\n",
       "      <td>3.789474</td>\n",
       "    </tr>\n",
       "    <tr>\n",
       "      <td>17</td>\n",
       "      <td>William Shakespeare/Paul Werstine/Barbara A. M...</td>\n",
       "      <td>3.787879</td>\n",
       "    </tr>\n",
       "    <tr>\n",
       "      <td>18</td>\n",
       "      <td>Dan Brown</td>\n",
       "      <td>3.741259</td>\n",
       "    </tr>\n",
       "    <tr>\n",
       "      <td>19</td>\n",
       "      <td>Lois Lowry</td>\n",
       "      <td>3.738462</td>\n",
       "    </tr>\n",
       "    <tr>\n",
       "      <td>20</td>\n",
       "      <td>George Orwell/Boris Grabnar/Peter Škerl</td>\n",
       "      <td>3.729730</td>\n",
       "    </tr>\n",
       "    <tr>\n",
       "      <td>21</td>\n",
       "      <td>Stephenie Meyer</td>\n",
       "      <td>3.662500</td>\n",
       "    </tr>\n",
       "    <tr>\n",
       "      <td>22</td>\n",
       "      <td>John Steinbeck</td>\n",
       "      <td>3.643836</td>\n",
       "    </tr>\n",
       "  </tbody>\n",
       "</table>\n",
       "</div>"
      ],
      "text/plain": [
       "                                               author  average_rating\n",
       "0                          J.K. Rowling/Mary GrandPré        4.288462\n",
       "1                                     Agatha Christie        4.283019\n",
       "2                   Markus Zusak/Cao Xuân Việt Khương        4.264151\n",
       "3                                      J.R.R. Tolkien        4.240964\n",
       "4                            Roald Dahl/Quentin Blake        4.209677\n",
       "5                                   Louisa May Alcott        4.203704\n",
       "6                                        Rick Riordan        4.130952\n",
       "7                                       Arthur Golden        4.107143\n",
       "8                                        Stephen King        4.009434\n",
       "9                                        John Grisham        3.971429\n",
       "10                                    William Golding        3.901408\n",
       "11                                    Nicholas Sparks        3.882883\n",
       "12                                       Jodi Picoult        3.881579\n",
       "13                                    Sophie Kinsella        3.877193\n",
       "14                                    James Patterson        3.859375\n",
       "15                                      J.D. Salinger        3.846939\n",
       "16           Paulo Coelho/Alan R. Clarke/Özdemir İnce        3.789474\n",
       "17  William Shakespeare/Paul Werstine/Barbara A. M...        3.787879\n",
       "18                                          Dan Brown        3.741259\n",
       "19                                         Lois Lowry        3.738462\n",
       "20            George Orwell/Boris Grabnar/Peter Škerl        3.729730\n",
       "21                                    Stephenie Meyer        3.662500\n",
       "22                                     John Steinbeck        3.643836"
      ]
     },
     "execution_count": 11,
     "metadata": {},
     "output_type": "execute_result"
    }
   ],
   "source": [
    "query = \"\"\"\n",
    "SELECT\n",
    "    authors.author as author,\n",
    "    AVG(ratings.rating) as average_rating\n",
    "FROM\n",
    "    authors\n",
    "    INNER JOIN books on books.author_id = authors.author_id\n",
    "    INNER JOIN ratings on ratings.book_id = books.book_id\n",
    "GROUP BY\n",
    "    author\n",
    "HAVING\n",
    "    COUNT(ratings.rating) > 50\n",
    "ORDER BY\n",
    "    average_rating DESC;\n",
    " \"\"\"\n",
    "pd.io.sql.read_sql(query, con = engine)"
   ]
  },
  {
   "cell_type": "markdown",
   "metadata": {},
   "source": [
    "\"J.K. Rowling/Mary GrandPré\" has the highest average book rating."
   ]
  },
  {
   "cell_type": "markdown",
   "metadata": {},
   "source": [
    "**Find the average number of text reviews among users who rated more than 50 books:**"
   ]
  },
  {
   "cell_type": "code",
   "execution_count": 12,
   "metadata": {},
   "outputs": [
    {
     "data": {
      "text/html": [
       "<div>\n",
       "<style scoped>\n",
       "    .dataframe tbody tr th:only-of-type {\n",
       "        vertical-align: middle;\n",
       "    }\n",
       "\n",
       "    .dataframe tbody tr th {\n",
       "        vertical-align: top;\n",
       "    }\n",
       "\n",
       "    .dataframe thead th {\n",
       "        text-align: right;\n",
       "    }\n",
       "</style>\n",
       "<table border=\"1\" class=\"dataframe\">\n",
       "  <thead>\n",
       "    <tr style=\"text-align: right;\">\n",
       "      <th></th>\n",
       "      <th>avg</th>\n",
       "    </tr>\n",
       "  </thead>\n",
       "  <tbody>\n",
       "    <tr>\n",
       "      <td>0</td>\n",
       "      <td>24</td>\n",
       "    </tr>\n",
       "  </tbody>\n",
       "</table>\n",
       "</div>"
      ],
      "text/plain": [
       "   avg\n",
       "0   24"
      ]
     },
     "execution_count": 12,
     "metadata": {},
     "output_type": "execute_result"
    }
   ],
   "source": [
    "query = \"\"\" \n",
    "\n",
    "SELECT \n",
    "    CAST(AVG(rev.count) AS int)\n",
    "FROM \n",
    "    (SELECT \n",
    "        username , COUNT(rating_id)\n",
    "    FROM \n",
    "        ratings \n",
    "    GROUP BY\n",
    "        username)  as t, \n",
    "        (SELECT\n",
    "             username, COUNT(username)\n",
    "        FROM\n",
    "             reviews\n",
    "        GROUP BY\n",
    "             username) as rev\n",
    "WHERE \n",
    "(rev.username = t.username) and t.count>50\n",
    "    \n",
    "\"\"\"\n",
    "pd.io.sql.read_sql(query, con = engine)"
   ]
  },
  {
   "cell_type": "markdown",
   "metadata": {},
   "source": [
    " 24 is the average number of text reviews among users who rated more than 50 books."
   ]
  },
  {
   "cell_type": "markdown",
   "metadata": {},
   "source": [
    "# Overall Conclusion"
   ]
  },
  {
   "cell_type": "markdown",
   "metadata": {},
   "source": [
    "-  In the \"books\" database, there are 1000 rows and 6 columns. Columns name are \"book_id\", \"author_id\", \"title\", \"num_pages\", \"publication_date\" and \"publisher_id\".\n",
    "-  In the \"author\" database, there are 636 rows and 2 columns. Columns name are \"authod_id\" and \"author\".\n",
    "-  In the \"publishers\" database, there are 340 rows and 2 columns. Columns are \"publisher_id\" and \"publisher\".\n",
    "-  In the \"ratings\" database, there are 6456 rows and 4 columns. Columns name are \"rating_id\", \"book_id\", \"username\" and \"rating\".\n",
    "-  In the reviews database, there are 2793 rows and 4 columns. Columns name are \"review_id\", \"book_id\", \"username\" and \"text\".\n",
    "-  The number of released  books are 819 after January 1, 2000.\n",
    "-  book_title \"Twilight\" has the 1120 reviews and mean rating is 3.67.\n",
    "-  \"Penguin Books\" has released 42 books with more than 50 pages.\n",
    "-  \"J.K. Rowling/Mary GrandPré\" has the highest average book rating.\n",
    "-  24 is the average number of text reviews among users who rated more than 50 books."
   ]
  },
  {
   "cell_type": "code",
   "execution_count": null,
   "metadata": {},
   "outputs": [],
   "source": []
  },
  {
   "cell_type": "code",
   "execution_count": null,
   "metadata": {},
   "outputs": [],
   "source": []
  }
 ],
 "metadata": {
  "ExecuteTimeLog": [
   {
    "duration": 98,
    "start_time": "2022-02-05T09:12:29.064Z"
   },
   {
    "duration": 836,
    "start_time": "2022-02-07T12:58:24.912Z"
   },
   {
    "duration": 4,
    "start_time": "2022-02-07T12:58:32.452Z"
   },
   {
    "duration": 85,
    "start_time": "2022-02-07T12:59:24.275Z"
   },
   {
    "duration": 5,
    "start_time": "2022-02-07T12:59:41.205Z"
   },
   {
    "duration": 4,
    "start_time": "2022-02-07T13:05:42.184Z"
   },
   {
    "duration": 554,
    "start_time": "2022-02-07T13:59:58.761Z"
   },
   {
    "duration": 426,
    "start_time": "2022-02-07T14:00:59.732Z"
   },
   {
    "duration": 530,
    "start_time": "2022-02-07T14:01:32.047Z"
   },
   {
    "duration": 504,
    "start_time": "2022-02-07T14:02:11.066Z"
   },
   {
    "duration": 533,
    "start_time": "2022-02-07T14:03:16.509Z"
   },
   {
    "duration": 553,
    "start_time": "2022-02-07T14:40:01.824Z"
   },
   {
    "duration": 639,
    "start_time": "2022-02-07T14:43:19.779Z"
   },
   {
    "duration": 137,
    "start_time": "2022-02-07T14:43:28.505Z"
   },
   {
    "duration": 534,
    "start_time": "2022-02-07T14:43:40.908Z"
   },
   {
    "duration": 593,
    "start_time": "2022-02-07T14:43:46.446Z"
   },
   {
    "duration": 578,
    "start_time": "2022-02-07T14:43:57.179Z"
   },
   {
    "duration": 164,
    "start_time": "2022-02-07T14:43:59.647Z"
   },
   {
    "duration": 538,
    "start_time": "2022-02-07T14:47:40.896Z"
   },
   {
    "duration": 581,
    "start_time": "2022-02-08T13:16:32.719Z"
   },
   {
    "duration": 9,
    "start_time": "2022-02-08T13:16:38.992Z"
   },
   {
    "duration": 249,
    "start_time": "2022-02-08T13:17:04.647Z"
   },
   {
    "duration": 421,
    "start_time": "2022-02-08T13:18:55.515Z"
   },
   {
    "duration": 96,
    "start_time": "2022-02-08T13:19:15.681Z"
   },
   {
    "duration": 334,
    "start_time": "2022-02-08T13:20:13.181Z"
   },
   {
    "duration": 77,
    "start_time": "2022-02-08T13:20:24.739Z"
   },
   {
    "duration": 95,
    "start_time": "2022-02-08T13:21:08.745Z"
   },
   {
    "duration": 59,
    "start_time": "2022-02-08T13:30:42.337Z"
   },
   {
    "duration": 79,
    "start_time": "2022-02-08T13:31:23.983Z"
   },
   {
    "duration": 63,
    "start_time": "2022-02-08T13:31:46.845Z"
   },
   {
    "duration": 59,
    "start_time": "2022-02-08T13:33:09.621Z"
   },
   {
    "duration": 58,
    "start_time": "2022-02-08T13:33:25.641Z"
   },
   {
    "duration": 104,
    "start_time": "2022-02-08T13:35:06.445Z"
   },
   {
    "duration": 94,
    "start_time": "2022-02-08T13:35:36.884Z"
   },
   {
    "duration": 93,
    "start_time": "2022-02-08T13:36:09.120Z"
   },
   {
    "duration": 363,
    "start_time": "2022-02-08T13:36:43.969Z"
   },
   {
    "duration": 92,
    "start_time": "2022-02-08T13:36:53.591Z"
   },
   {
    "duration": 77,
    "start_time": "2022-02-08T13:40:09.912Z"
   },
   {
    "duration": 69,
    "start_time": "2022-02-08T13:40:31.706Z"
   },
   {
    "duration": 117,
    "start_time": "2022-02-08T13:40:43.253Z"
   },
   {
    "duration": 113,
    "start_time": "2022-02-08T13:40:56.187Z"
   },
   {
    "duration": 667,
    "start_time": "2022-02-08T13:52:39.547Z"
   },
   {
    "duration": 289,
    "start_time": "2022-02-08T13:52:40.216Z"
   },
   {
    "duration": 76,
    "start_time": "2022-02-08T13:52:40.508Z"
   },
   {
    "duration": 75,
    "start_time": "2022-02-08T13:52:40.586Z"
   },
   {
    "duration": 97,
    "start_time": "2022-02-08T13:52:40.663Z"
   },
   {
    "duration": 91,
    "start_time": "2022-02-08T13:52:40.761Z"
   },
   {
    "duration": 83,
    "start_time": "2022-02-08T13:52:40.853Z"
   },
   {
    "duration": 635,
    "start_time": "2022-02-08T14:04:10.300Z"
   },
   {
    "duration": 37,
    "start_time": "2022-02-08T14:04:10.936Z"
   },
   {
    "duration": 297,
    "start_time": "2022-02-08T14:04:10.975Z"
   },
   {
    "duration": 71,
    "start_time": "2022-02-08T14:04:11.274Z"
   },
   {
    "duration": 70,
    "start_time": "2022-02-08T14:04:11.346Z"
   },
   {
    "duration": 111,
    "start_time": "2022-02-08T14:04:11.418Z"
   },
   {
    "duration": 94,
    "start_time": "2022-02-08T14:04:11.531Z"
   },
   {
    "duration": 86,
    "start_time": "2022-02-08T14:04:11.628Z"
   },
   {
    "duration": 335,
    "start_time": "2022-02-08T17:21:00.045Z"
   },
   {
    "duration": 883,
    "start_time": "2022-02-08T17:21:09.086Z"
   },
   {
    "duration": 40,
    "start_time": "2022-02-08T17:21:09.972Z"
   },
   {
    "duration": 256,
    "start_time": "2022-02-08T17:21:10.015Z"
   },
   {
    "duration": 68,
    "start_time": "2022-02-08T17:21:10.274Z"
   },
   {
    "duration": 64,
    "start_time": "2022-02-08T17:21:10.345Z"
   },
   {
    "duration": 100,
    "start_time": "2022-02-08T17:21:10.412Z"
   },
   {
    "duration": 82,
    "start_time": "2022-02-08T17:21:10.515Z"
   },
   {
    "duration": 76,
    "start_time": "2022-02-08T17:21:10.600Z"
   },
   {
    "duration": 77,
    "start_time": "2022-02-08T17:21:10.678Z"
   },
   {
    "duration": 75,
    "start_time": "2022-02-08T17:21:10.757Z"
   },
   {
    "duration": 513,
    "start_time": "2022-02-08T17:55:29.405Z"
   },
   {
    "duration": 401,
    "start_time": "2022-02-08T17:55:59.089Z"
   },
   {
    "duration": 357,
    "start_time": "2022-02-08T17:59:43.135Z"
   },
   {
    "duration": 348,
    "start_time": "2022-02-08T18:00:01.722Z"
   },
   {
    "duration": 92,
    "start_time": "2022-02-08T18:01:12.181Z"
   },
   {
    "duration": 826,
    "start_time": "2022-02-08T18:01:54.697Z"
   },
   {
    "duration": 50,
    "start_time": "2022-02-08T18:01:55.526Z"
   },
   {
    "duration": 259,
    "start_time": "2022-02-08T18:01:55.580Z"
   },
   {
    "duration": 71,
    "start_time": "2022-02-08T18:01:55.841Z"
   },
   {
    "duration": 74,
    "start_time": "2022-02-08T18:01:55.915Z"
   },
   {
    "duration": 107,
    "start_time": "2022-02-08T18:01:55.992Z"
   },
   {
    "duration": 88,
    "start_time": "2022-02-08T18:01:56.101Z"
   },
   {
    "duration": 81,
    "start_time": "2022-02-08T18:01:56.192Z"
   },
   {
    "duration": 445,
    "start_time": "2022-02-08T18:01:56.275Z"
   },
   {
    "duration": 1691,
    "start_time": "2022-02-08T18:01:55.032Z"
   },
   {
    "duration": 1689,
    "start_time": "2022-02-08T18:01:55.035Z"
   },
   {
    "duration": 1683,
    "start_time": "2022-02-08T18:01:55.043Z"
   },
   {
    "duration": 354,
    "start_time": "2022-02-08T18:28:30.339Z"
   },
   {
    "duration": 337,
    "start_time": "2022-02-08T18:28:53.032Z"
   },
   {
    "duration": 147,
    "start_time": "2022-02-08T18:29:03.242Z"
   },
   {
    "duration": 352,
    "start_time": "2022-02-08T18:34:26.736Z"
   },
   {
    "duration": 329,
    "start_time": "2022-02-08T18:34:53.485Z"
   },
   {
    "duration": 345,
    "start_time": "2022-02-08T18:35:37.201Z"
   },
   {
    "duration": 344,
    "start_time": "2022-02-08T18:35:59.766Z"
   },
   {
    "duration": 437,
    "start_time": "2022-02-08T18:37:29.073Z"
   },
   {
    "duration": 79,
    "start_time": "2022-02-08T18:42:09.610Z"
   },
   {
    "duration": 343,
    "start_time": "2022-02-08T18:42:59.524Z"
   },
   {
    "duration": 80,
    "start_time": "2022-02-08T18:45:15.421Z"
   },
   {
    "duration": 80,
    "start_time": "2022-02-08T18:45:26.463Z"
   },
   {
    "duration": 80,
    "start_time": "2022-02-08T18:47:12.273Z"
   },
   {
    "duration": 342,
    "start_time": "2022-02-08T18:50:07.409Z"
   },
   {
    "duration": 86,
    "start_time": "2022-02-08T18:50:29.457Z"
   },
   {
    "duration": 82,
    "start_time": "2022-02-08T18:51:20.483Z"
   },
   {
    "duration": 329,
    "start_time": "2022-02-08T18:51:41.449Z"
   },
   {
    "duration": 213,
    "start_time": "2022-02-08T18:51:45.496Z"
   },
   {
    "duration": 389,
    "start_time": "2022-02-08T20:32:55.051Z"
   },
   {
    "duration": 928,
    "start_time": "2022-02-08T20:33:59.893Z"
   },
   {
    "duration": 50,
    "start_time": "2022-02-08T20:34:00.824Z"
   },
   {
    "duration": 262,
    "start_time": "2022-02-08T20:34:00.877Z"
   },
   {
    "duration": 68,
    "start_time": "2022-02-08T20:34:01.142Z"
   },
   {
    "duration": 74,
    "start_time": "2022-02-08T20:34:01.213Z"
   },
   {
    "duration": 101,
    "start_time": "2022-02-08T20:34:01.290Z"
   },
   {
    "duration": 84,
    "start_time": "2022-02-08T20:34:01.394Z"
   },
   {
    "duration": 78,
    "start_time": "2022-02-08T20:34:01.482Z"
   },
   {
    "duration": 68,
    "start_time": "2022-02-08T20:34:01.563Z"
   },
   {
    "duration": 74,
    "start_time": "2022-02-08T20:34:01.634Z"
   },
   {
    "duration": 78,
    "start_time": "2022-02-08T20:34:01.710Z"
   },
   {
    "duration": 81,
    "start_time": "2022-02-08T20:34:01.791Z"
   },
   {
    "duration": 91,
    "start_time": "2022-02-08T20:51:50.799Z"
   },
   {
    "duration": 111,
    "start_time": "2022-02-08T20:52:01.693Z"
   },
   {
    "duration": 104,
    "start_time": "2022-02-08T21:08:30.712Z"
   },
   {
    "duration": 63,
    "start_time": "2022-02-08T21:11:31.837Z"
   },
   {
    "duration": 106,
    "start_time": "2022-02-08T21:12:37.823Z"
   },
   {
    "duration": 62,
    "start_time": "2022-02-08T21:13:56.155Z"
   },
   {
    "duration": 444,
    "start_time": "2022-02-08T21:15:44.494Z"
   },
   {
    "duration": 340,
    "start_time": "2022-02-08T21:16:21.385Z"
   },
   {
    "duration": 348,
    "start_time": "2022-02-08T21:16:55.933Z"
   },
   {
    "duration": 113,
    "start_time": "2022-02-08T21:24:45.330Z"
   },
   {
    "duration": 61,
    "start_time": "2022-02-08T21:25:39.578Z"
   },
   {
    "duration": 339,
    "start_time": "2022-02-08T21:28:56.056Z"
   },
   {
    "duration": 343,
    "start_time": "2022-02-08T21:29:03.734Z"
   },
   {
    "duration": 402,
    "start_time": "2022-02-08T21:29:15.557Z"
   },
   {
    "duration": 343,
    "start_time": "2022-02-08T21:29:39.023Z"
   },
   {
    "duration": 784,
    "start_time": "2022-02-08T21:29:53.605Z"
   },
   {
    "duration": 106,
    "start_time": "2022-02-08T21:30:26.562Z"
   },
   {
    "duration": 73,
    "start_time": "2022-02-08T21:30:55.284Z"
   },
   {
    "duration": 345,
    "start_time": "2022-02-08T21:31:21.230Z"
   },
   {
    "duration": 75,
    "start_time": "2022-02-08T21:31:25.089Z"
   },
   {
    "duration": 74,
    "start_time": "2022-02-08T21:32:33.863Z"
   },
   {
    "duration": 73,
    "start_time": "2022-02-08T21:32:47.196Z"
   },
   {
    "duration": 74,
    "start_time": "2022-02-08T21:33:09.154Z"
   },
   {
    "duration": 336,
    "start_time": "2022-02-08T21:33:53.676Z"
   },
   {
    "duration": 322,
    "start_time": "2022-02-08T21:34:11.567Z"
   },
   {
    "duration": 340,
    "start_time": "2022-02-08T21:35:30.053Z"
   },
   {
    "duration": 389,
    "start_time": "2022-02-08T21:35:34.583Z"
   },
   {
    "duration": 347,
    "start_time": "2022-02-08T21:35:41.231Z"
   },
   {
    "duration": 66,
    "start_time": "2022-02-08T21:36:16.238Z"
   },
   {
    "duration": 66,
    "start_time": "2022-02-08T21:37:45.723Z"
   },
   {
    "duration": 470,
    "start_time": "2022-02-08T21:39:39.194Z"
   },
   {
    "duration": 68,
    "start_time": "2022-02-08T21:40:03.518Z"
   },
   {
    "duration": 107,
    "start_time": "2022-02-08T21:43:44.272Z"
   },
   {
    "duration": 220,
    "start_time": "2022-02-08T21:45:46.690Z"
   },
   {
    "duration": 321,
    "start_time": "2022-02-08T21:49:19.325Z"
   },
   {
    "duration": 339,
    "start_time": "2022-02-08T21:49:28.726Z"
   },
   {
    "duration": 437,
    "start_time": "2022-02-08T21:49:45.472Z"
   },
   {
    "duration": 438,
    "start_time": "2022-02-08T21:50:04.972Z"
   },
   {
    "duration": 342,
    "start_time": "2022-02-08T21:50:20.546Z"
   },
   {
    "duration": 342,
    "start_time": "2022-02-08T21:50:28.674Z"
   },
   {
    "duration": 419,
    "start_time": "2022-02-08T21:50:38.186Z"
   },
   {
    "duration": 330,
    "start_time": "2022-02-08T21:50:55.294Z"
   },
   {
    "duration": 325,
    "start_time": "2022-02-08T21:51:16.930Z"
   },
   {
    "duration": 175,
    "start_time": "2022-02-08T21:51:38.690Z"
   },
   {
    "duration": 337,
    "start_time": "2022-02-08T21:53:03.140Z"
   },
   {
    "duration": 363,
    "start_time": "2022-02-08T21:53:16.150Z"
   },
   {
    "duration": 349,
    "start_time": "2022-02-08T21:53:29.018Z"
   },
   {
    "duration": 336,
    "start_time": "2022-02-08T21:53:47.273Z"
   },
   {
    "duration": 368,
    "start_time": "2022-02-08T21:53:54.807Z"
   },
   {
    "duration": 229,
    "start_time": "2022-02-08T21:54:45.214Z"
   },
   {
    "duration": 167,
    "start_time": "2022-02-08T21:56:24.711Z"
   },
   {
    "duration": 364,
    "start_time": "2022-02-08T21:59:24.353Z"
   },
   {
    "duration": 349,
    "start_time": "2022-02-08T21:59:29.103Z"
   },
   {
    "duration": 171,
    "start_time": "2022-02-08T21:59:51.224Z"
   },
   {
    "duration": 351,
    "start_time": "2022-02-08T22:00:45.925Z"
   },
   {
    "duration": 323,
    "start_time": "2022-02-08T22:00:57.557Z"
   },
   {
    "duration": 163,
    "start_time": "2022-02-08T22:01:00.849Z"
   },
   {
    "duration": 329,
    "start_time": "2022-02-08T22:02:00.454Z"
   },
   {
    "duration": 344,
    "start_time": "2022-02-08T22:02:53.710Z"
   },
   {
    "duration": 320,
    "start_time": "2022-02-08T22:03:02.305Z"
   },
   {
    "duration": 169,
    "start_time": "2022-02-08T22:03:24.072Z"
   },
   {
    "duration": 344,
    "start_time": "2022-02-08T22:05:11.901Z"
   },
   {
    "duration": 90,
    "start_time": "2022-02-08T22:05:25.032Z"
   },
   {
    "duration": 168,
    "start_time": "2022-02-08T22:05:39.011Z"
   },
   {
    "duration": 504,
    "start_time": "2022-02-08T22:06:44.981Z"
   },
   {
    "duration": 346,
    "start_time": "2022-02-08T22:07:15.970Z"
   },
   {
    "duration": 322,
    "start_time": "2022-02-08T22:12:06.885Z"
   },
   {
    "duration": 363,
    "start_time": "2022-02-08T22:12:18.763Z"
   },
   {
    "duration": 106,
    "start_time": "2022-02-08T22:12:52.305Z"
   },
   {
    "duration": 332,
    "start_time": "2022-02-08T22:14:43.859Z"
   },
   {
    "duration": 100,
    "start_time": "2022-02-08T22:14:49.601Z"
   },
   {
    "duration": 77,
    "start_time": "2022-02-08T22:16:02.632Z"
   },
   {
    "duration": 79,
    "start_time": "2022-02-08T22:16:24.166Z"
   },
   {
    "duration": 79,
    "start_time": "2022-02-08T22:18:48.769Z"
   },
   {
    "duration": 83,
    "start_time": "2022-02-08T22:19:19.678Z"
   },
   {
    "duration": 339,
    "start_time": "2022-02-08T22:20:10.261Z"
   },
   {
    "duration": 83,
    "start_time": "2022-02-08T22:20:48.182Z"
   },
   {
    "duration": 352,
    "start_time": "2022-02-08T22:21:04.383Z"
   },
   {
    "duration": 83,
    "start_time": "2022-02-08T22:21:42.247Z"
   },
   {
    "duration": 408,
    "start_time": "2022-02-08T22:21:50.634Z"
   },
   {
    "duration": 83,
    "start_time": "2022-02-08T22:22:11.995Z"
   },
   {
    "duration": 78,
    "start_time": "2022-02-08T22:23:14.794Z"
   },
   {
    "duration": 83,
    "start_time": "2022-02-08T22:23:25.561Z"
   },
   {
    "duration": 348,
    "start_time": "2022-02-08T22:25:02.298Z"
   },
   {
    "duration": 382,
    "start_time": "2022-02-08T22:25:15.370Z"
   },
   {
    "duration": 329,
    "start_time": "2022-02-08T22:25:33.800Z"
   },
   {
    "duration": 353,
    "start_time": "2022-02-08T22:25:39.749Z"
   },
   {
    "duration": 67,
    "start_time": "2022-02-08T22:25:44.629Z"
   },
   {
    "duration": 437,
    "start_time": "2022-02-08T22:26:10.056Z"
   },
   {
    "duration": 362,
    "start_time": "2022-02-08T22:26:14.964Z"
   },
   {
    "duration": 68,
    "start_time": "2022-02-08T22:26:24.045Z"
   },
   {
    "duration": 70,
    "start_time": "2022-02-08T22:26:35.655Z"
   },
   {
    "duration": 6,
    "start_time": "2022-02-08T22:26:35.790Z"
   },
   {
    "duration": 343,
    "start_time": "2022-02-08T22:34:06.126Z"
   },
   {
    "duration": 323,
    "start_time": "2022-02-08T22:34:37.906Z"
   },
   {
    "duration": 158,
    "start_time": "2022-02-08T22:35:00.460Z"
   },
   {
    "duration": 65,
    "start_time": "2022-02-08T22:37:44.279Z"
   },
   {
    "duration": 881,
    "start_time": "2022-02-08T22:38:15.120Z"
   },
   {
    "duration": 95,
    "start_time": "2022-02-08T22:38:24.199Z"
   },
   {
    "duration": 119,
    "start_time": "2022-02-08T22:38:35.915Z"
   },
   {
    "duration": 336,
    "start_time": "2022-02-08T22:39:10.058Z"
   },
   {
    "duration": 106,
    "start_time": "2022-02-08T22:39:22.499Z"
   },
   {
    "duration": 358,
    "start_time": "2022-02-08T22:40:12.197Z"
   },
   {
    "duration": 68,
    "start_time": "2022-02-08T22:40:33.190Z"
   },
   {
    "duration": 65,
    "start_time": "2022-02-08T22:41:25.888Z"
   },
   {
    "duration": 102,
    "start_time": "2022-02-08T22:41:41.838Z"
   },
   {
    "duration": 114,
    "start_time": "2022-02-08T22:42:25.054Z"
   },
   {
    "duration": 342,
    "start_time": "2022-02-08T22:42:47.208Z"
   },
   {
    "duration": 71,
    "start_time": "2022-02-08T22:42:53.940Z"
   },
   {
    "duration": 63,
    "start_time": "2022-02-08T22:44:13.743Z"
   },
   {
    "duration": 343,
    "start_time": "2022-02-08T22:53:36.080Z"
   },
   {
    "duration": 320,
    "start_time": "2022-02-08T22:55:12.883Z"
   },
   {
    "duration": 845,
    "start_time": "2022-02-08T22:55:24.525Z"
   },
   {
    "duration": 44,
    "start_time": "2022-02-08T22:55:25.933Z"
   },
   {
    "duration": 247,
    "start_time": "2022-02-08T22:55:37.039Z"
   },
   {
    "duration": 70,
    "start_time": "2022-02-08T22:56:38.729Z"
   },
   {
    "duration": 69,
    "start_time": "2022-02-08T22:57:28.696Z"
   },
   {
    "duration": 68,
    "start_time": "2022-02-08T22:57:49.419Z"
   },
   {
    "duration": 366,
    "start_time": "2022-02-08T22:58:21.946Z"
   },
   {
    "duration": 69,
    "start_time": "2022-02-08T22:59:26.284Z"
   },
   {
    "duration": 518,
    "start_time": "2022-02-08T23:07:50.421Z"
   },
   {
    "duration": 71,
    "start_time": "2022-02-08T23:07:55.290Z"
   },
   {
    "duration": 77,
    "start_time": "2022-02-08T23:09:59.257Z"
   },
   {
    "duration": 67,
    "start_time": "2022-02-08T23:13:57.508Z"
   },
   {
    "duration": 882,
    "start_time": "2022-02-08T23:15:12.375Z"
   },
   {
    "duration": 39,
    "start_time": "2022-02-08T23:15:13.260Z"
   },
   {
    "duration": 249,
    "start_time": "2022-02-08T23:15:13.302Z"
   },
   {
    "duration": 67,
    "start_time": "2022-02-08T23:15:13.554Z"
   },
   {
    "duration": 67,
    "start_time": "2022-02-08T23:15:13.624Z"
   },
   {
    "duration": 95,
    "start_time": "2022-02-08T23:15:13.694Z"
   },
   {
    "duration": 85,
    "start_time": "2022-02-08T23:15:13.792Z"
   },
   {
    "duration": 76,
    "start_time": "2022-02-08T23:15:13.881Z"
   },
   {
    "duration": 67,
    "start_time": "2022-02-08T23:15:13.959Z"
   },
   {
    "duration": 68,
    "start_time": "2022-02-08T23:15:14.029Z"
   },
   {
    "duration": 65,
    "start_time": "2022-02-08T23:15:14.100Z"
   },
   {
    "duration": 96,
    "start_time": "2022-02-08T23:15:14.167Z"
   },
   {
    "duration": 1578,
    "start_time": "2022-02-08T23:15:12.688Z"
   },
   {
    "duration": 1574,
    "start_time": "2022-02-08T23:15:12.693Z"
   },
   {
    "duration": 953,
    "start_time": "2022-02-08T23:21:51.767Z"
   },
   {
    "duration": 51,
    "start_time": "2022-02-08T23:21:52.723Z"
   },
   {
    "duration": 228,
    "start_time": "2022-02-08T23:21:52.777Z"
   },
   {
    "duration": 63,
    "start_time": "2022-02-08T23:21:53.008Z"
   },
   {
    "duration": 60,
    "start_time": "2022-02-08T23:21:53.073Z"
   },
   {
    "duration": 86,
    "start_time": "2022-02-08T23:21:53.136Z"
   },
   {
    "duration": 75,
    "start_time": "2022-02-08T23:21:53.225Z"
   },
   {
    "duration": 72,
    "start_time": "2022-02-08T23:21:53.303Z"
   },
   {
    "duration": 61,
    "start_time": "2022-02-08T23:21:53.378Z"
   },
   {
    "duration": 64,
    "start_time": "2022-02-08T23:21:53.442Z"
   },
   {
    "duration": 58,
    "start_time": "2022-02-08T23:21:53.509Z"
   },
   {
    "duration": 63,
    "start_time": "2022-02-08T23:21:53.570Z"
   },
   {
    "duration": 58,
    "start_time": "2022-02-08T23:21:53.635Z"
   },
   {
    "duration": 885,
    "start_time": "2022-02-09T07:39:07.711Z"
   },
   {
    "duration": 38,
    "start_time": "2022-02-09T07:39:08.599Z"
   },
   {
    "duration": 250,
    "start_time": "2022-02-09T07:39:08.640Z"
   },
   {
    "duration": 65,
    "start_time": "2022-02-09T07:39:08.892Z"
   },
   {
    "duration": 64,
    "start_time": "2022-02-09T07:39:08.960Z"
   },
   {
    "duration": 92,
    "start_time": "2022-02-09T07:39:09.026Z"
   },
   {
    "duration": 81,
    "start_time": "2022-02-09T07:39:09.120Z"
   },
   {
    "duration": 75,
    "start_time": "2022-02-09T07:39:09.203Z"
   },
   {
    "duration": 66,
    "start_time": "2022-02-09T07:39:09.281Z"
   },
   {
    "duration": 81,
    "start_time": "2022-02-09T07:39:09.351Z"
   },
   {
    "duration": 65,
    "start_time": "2022-02-09T07:39:09.434Z"
   },
   {
    "duration": 68,
    "start_time": "2022-02-09T07:39:09.502Z"
   },
   {
    "duration": 61,
    "start_time": "2022-02-09T07:39:09.573Z"
   },
   {
    "duration": 450,
    "start_time": "2022-02-09T08:23:03.823Z"
   },
   {
    "duration": 824,
    "start_time": "2022-02-09T08:23:11.017Z"
   },
   {
    "duration": 44,
    "start_time": "2022-02-09T08:23:11.844Z"
   },
   {
    "duration": 62,
    "start_time": "2022-02-09T08:23:11.891Z"
   },
   {
    "duration": 19,
    "start_time": "2022-02-09T08:23:11.955Z"
   },
   {
    "duration": 18,
    "start_time": "2022-02-09T08:23:11.976Z"
   },
   {
    "duration": 38,
    "start_time": "2022-02-09T08:23:11.996Z"
   },
   {
    "duration": 39,
    "start_time": "2022-02-09T08:23:12.036Z"
   },
   {
    "duration": 13,
    "start_time": "2022-02-09T08:23:12.080Z"
   },
   {
    "duration": 20,
    "start_time": "2022-02-09T08:23:12.096Z"
   },
   {
    "duration": 46,
    "start_time": "2022-02-09T08:23:12.119Z"
   },
   {
    "duration": 17,
    "start_time": "2022-02-09T08:23:12.167Z"
   },
   {
    "duration": 20,
    "start_time": "2022-02-09T08:23:12.187Z"
   },
   {
    "duration": 15,
    "start_time": "2022-02-09T08:23:12.209Z"
   },
   {
    "duration": 529,
    "start_time": "2022-02-09T09:10:58.887Z"
   },
   {
    "duration": 383,
    "start_time": "2022-02-09T09:11:17.100Z"
   },
   {
    "duration": 380,
    "start_time": "2022-02-09T09:11:26.727Z"
   },
   {
    "duration": 431,
    "start_time": "2022-02-09T09:11:40.912Z"
   },
   {
    "duration": 108,
    "start_time": "2022-02-09T09:22:07.504Z"
   },
   {
    "duration": 28,
    "start_time": "2022-02-09T09:22:35.661Z"
   },
   {
    "duration": 18,
    "start_time": "2022-02-09T09:23:14.010Z"
   },
   {
    "duration": 67,
    "start_time": "2022-02-09T09:23:18.578Z"
   },
   {
    "duration": 447,
    "start_time": "2022-02-09T09:23:41.499Z"
   },
   {
    "duration": 242,
    "start_time": "2022-02-09T09:29:35.724Z"
   },
   {
    "duration": 384,
    "start_time": "2022-02-09T09:30:43.040Z"
   },
   {
    "duration": 624,
    "start_time": "2022-02-09T09:36:00.708Z"
   },
   {
    "duration": 913,
    "start_time": "2022-02-09T09:36:51.560Z"
   },
   {
    "duration": 431,
    "start_time": "2022-02-09T09:37:17.063Z"
   },
   {
    "duration": 505,
    "start_time": "2022-02-09T09:37:48.906Z"
   },
   {
    "duration": 507,
    "start_time": "2022-02-09T09:38:07.803Z"
   },
   {
    "duration": 373,
    "start_time": "2022-02-09T09:38:37.740Z"
   },
   {
    "duration": 399,
    "start_time": "2022-02-09T09:39:30.380Z"
   },
   {
    "duration": 405,
    "start_time": "2022-02-09T09:43:22.960Z"
   },
   {
    "duration": 499,
    "start_time": "2022-02-09T09:43:28.773Z"
   },
   {
    "duration": 765,
    "start_time": "2022-02-09T09:44:26.596Z"
   },
   {
    "duration": 890,
    "start_time": "2022-02-09T09:44:39.132Z"
   },
   {
    "duration": 434,
    "start_time": "2022-02-09T09:46:03.628Z"
   },
   {
    "duration": 569,
    "start_time": "2022-02-09T09:46:45.433Z"
   },
   {
    "duration": 497,
    "start_time": "2022-02-09T09:46:56.597Z"
   },
   {
    "duration": 562,
    "start_time": "2022-02-09T09:48:57.929Z"
   },
   {
    "duration": 381,
    "start_time": "2022-02-09T09:50:06.267Z"
   },
   {
    "duration": 1096,
    "start_time": "2022-02-09T09:54:21.345Z"
   },
   {
    "duration": 861,
    "start_time": "2022-02-09T09:54:40.506Z"
   },
   {
    "duration": 27,
    "start_time": "2022-02-09T09:54:51.413Z"
   },
   {
    "duration": 432,
    "start_time": "2022-02-09T09:56:13.550Z"
   },
   {
    "duration": 435,
    "start_time": "2022-02-09T09:56:59.941Z"
   },
   {
    "duration": 424,
    "start_time": "2022-02-09T09:57:34.555Z"
   },
   {
    "duration": 44,
    "start_time": "2022-02-09T09:57:54.559Z"
   },
   {
    "duration": 31,
    "start_time": "2022-02-09T09:58:45.092Z"
   },
   {
    "duration": 892,
    "start_time": "2022-02-09T10:03:34.376Z"
   },
   {
    "duration": 1218,
    "start_time": "2022-02-09T10:03:50.054Z"
   },
   {
    "duration": 612,
    "start_time": "2022-02-09T10:04:00.092Z"
   },
   {
    "duration": 426,
    "start_time": "2022-02-09T10:04:32.236Z"
   },
   {
    "duration": 413,
    "start_time": "2022-02-09T10:04:58.543Z"
   },
   {
    "duration": 394,
    "start_time": "2022-02-09T10:05:04.356Z"
   },
   {
    "duration": 450,
    "start_time": "2022-02-09T10:05:21.607Z"
   },
   {
    "duration": 33,
    "start_time": "2022-02-09T10:05:47.848Z"
   },
   {
    "duration": 20,
    "start_time": "2022-02-09T10:18:03.920Z"
   },
   {
    "duration": 416,
    "start_time": "2022-02-09T10:19:31.819Z"
   },
   {
    "duration": 408,
    "start_time": "2022-02-09T10:20:54.273Z"
   },
   {
    "duration": 384,
    "start_time": "2022-02-09T10:21:11.974Z"
   },
   {
    "duration": 21,
    "start_time": "2022-02-09T10:22:14.833Z"
   },
   {
    "duration": 15,
    "start_time": "2022-02-09T10:23:42.300Z"
   },
   {
    "duration": 873,
    "start_time": "2022-02-09T10:26:11.620Z"
   },
   {
    "duration": 37,
    "start_time": "2022-02-09T10:26:12.496Z"
   },
   {
    "duration": 74,
    "start_time": "2022-02-09T10:26:12.535Z"
   },
   {
    "duration": 18,
    "start_time": "2022-02-09T10:26:12.612Z"
   },
   {
    "duration": 17,
    "start_time": "2022-02-09T10:26:12.632Z"
   },
   {
    "duration": 39,
    "start_time": "2022-02-09T10:26:12.652Z"
   },
   {
    "duration": 26,
    "start_time": "2022-02-09T10:26:12.694Z"
   },
   {
    "duration": 13,
    "start_time": "2022-02-09T10:26:12.723Z"
   },
   {
    "duration": 48,
    "start_time": "2022-02-09T10:26:12.738Z"
   },
   {
    "duration": 16,
    "start_time": "2022-02-09T10:26:12.789Z"
   },
   {
    "duration": 21,
    "start_time": "2022-02-09T10:26:12.807Z"
   },
   {
    "duration": 16,
    "start_time": "2022-02-09T10:26:12.830Z"
   },
   {
    "duration": 35,
    "start_time": "2022-02-09T10:29:10.073Z"
   },
   {
    "duration": 502,
    "start_time": "2022-02-09T10:33:32.614Z"
   },
   {
    "duration": 120,
    "start_time": "2022-02-09T10:33:59.688Z"
   },
   {
    "duration": 1382,
    "start_time": "2022-02-09T10:36:21.040Z"
   },
   {
    "duration": 590,
    "start_time": "2022-02-09T10:37:17.277Z"
   },
   {
    "duration": 414,
    "start_time": "2022-02-09T10:37:22.511Z"
   },
   {
    "duration": 620,
    "start_time": "2022-02-09T10:37:47.641Z"
   },
   {
    "duration": 450,
    "start_time": "2022-02-09T10:38:21.060Z"
   },
   {
    "duration": 407,
    "start_time": "2022-02-09T10:38:30.619Z"
   },
   {
    "duration": 475,
    "start_time": "2022-02-09T10:39:25.983Z"
   },
   {
    "duration": 443,
    "start_time": "2022-02-09T10:39:43.224Z"
   },
   {
    "duration": 791,
    "start_time": "2022-02-09T10:40:57.187Z"
   },
   {
    "duration": 477,
    "start_time": "2022-02-09T11:09:56.184Z"
   },
   {
    "duration": 387,
    "start_time": "2022-02-09T11:19:02.659Z"
   },
   {
    "duration": 485,
    "start_time": "2022-02-09T11:20:40.320Z"
   },
   {
    "duration": 545,
    "start_time": "2022-02-09T11:20:53.865Z"
   },
   {
    "duration": 531,
    "start_time": "2022-02-09T11:22:40.121Z"
   },
   {
    "duration": 425,
    "start_time": "2022-02-09T11:22:51.967Z"
   },
   {
    "duration": 405,
    "start_time": "2022-02-09T11:23:53.464Z"
   },
   {
    "duration": 502,
    "start_time": "2022-02-09T11:23:57.736Z"
   },
   {
    "duration": 380,
    "start_time": "2022-02-09T11:24:13.711Z"
   },
   {
    "duration": 427,
    "start_time": "2022-02-09T11:25:31.106Z"
   },
   {
    "duration": 499,
    "start_time": "2022-02-09T11:25:54.628Z"
   },
   {
    "duration": 435,
    "start_time": "2022-02-09T11:26:45.811Z"
   },
   {
    "duration": 473,
    "start_time": "2022-02-09T11:27:13.405Z"
   },
   {
    "duration": 404,
    "start_time": "2022-02-09T11:27:25.909Z"
   },
   {
    "duration": 399,
    "start_time": "2022-02-09T11:44:37.870Z"
   },
   {
    "duration": 403,
    "start_time": "2022-02-09T11:44:45.927Z"
   },
   {
    "duration": 475,
    "start_time": "2022-02-09T11:45:25.252Z"
   },
   {
    "duration": 379,
    "start_time": "2022-02-09T11:47:26.594Z"
   },
   {
    "duration": 391,
    "start_time": "2022-02-09T11:48:09.950Z"
   },
   {
    "duration": 861,
    "start_time": "2022-02-09T11:49:52.512Z"
   },
   {
    "duration": 383,
    "start_time": "2022-02-09T11:52:03.938Z"
   },
   {
    "duration": 400,
    "start_time": "2022-02-09T11:53:08.355Z"
   },
   {
    "duration": 1048,
    "start_time": "2022-02-09T11:54:35.735Z"
   },
   {
    "duration": 516,
    "start_time": "2022-02-09T11:54:50.643Z"
   },
   {
    "duration": 446,
    "start_time": "2022-02-09T12:28:21.931Z"
   },
   {
    "duration": 396,
    "start_time": "2022-02-09T12:28:30.972Z"
   },
   {
    "duration": 15,
    "start_time": "2022-02-09T12:29:23.990Z"
   },
   {
    "duration": 501,
    "start_time": "2022-02-09T12:29:41.592Z"
   },
   {
    "duration": 535,
    "start_time": "2022-02-09T12:29:50.699Z"
   },
   {
    "duration": 15,
    "start_time": "2022-02-09T12:29:58.283Z"
   },
   {
    "duration": 14,
    "start_time": "2022-02-09T12:30:14.091Z"
   },
   {
    "duration": 16,
    "start_time": "2022-02-09T12:30:29.853Z"
   },
   {
    "duration": 417,
    "start_time": "2022-02-09T12:30:52.835Z"
   },
   {
    "duration": 414,
    "start_time": "2022-02-09T12:31:05.983Z"
   },
   {
    "duration": 383,
    "start_time": "2022-02-09T12:31:28.261Z"
   },
   {
    "duration": 15,
    "start_time": "2022-02-09T12:31:39.567Z"
   },
   {
    "duration": 16,
    "start_time": "2022-02-09T12:54:39.298Z"
   },
   {
    "duration": 403,
    "start_time": "2022-02-09T12:55:25.495Z"
   },
   {
    "duration": 461,
    "start_time": "2022-02-09T12:55:54.195Z"
   },
   {
    "duration": 418,
    "start_time": "2022-02-09T13:14:24.767Z"
   },
   {
    "duration": 464,
    "start_time": "2022-02-09T13:14:43.072Z"
   },
   {
    "duration": 401,
    "start_time": "2022-02-09T13:14:48.769Z"
   },
   {
    "duration": 383,
    "start_time": "2022-02-09T13:14:59.624Z"
   },
   {
    "duration": 377,
    "start_time": "2022-02-09T13:15:07.977Z"
   },
   {
    "duration": 380,
    "start_time": "2022-02-09T13:15:20.802Z"
   },
   {
    "duration": 395,
    "start_time": "2022-02-09T13:15:28.701Z"
   },
   {
    "duration": 380,
    "start_time": "2022-02-09T13:17:50.081Z"
   },
   {
    "duration": 456,
    "start_time": "2022-02-09T13:19:08.292Z"
   },
   {
    "duration": 402,
    "start_time": "2022-02-09T13:24:47.280Z"
   },
   {
    "duration": 373,
    "start_time": "2022-02-09T13:25:27.082Z"
   },
   {
    "duration": 399,
    "start_time": "2022-02-09T13:25:42.376Z"
   },
   {
    "duration": 14,
    "start_time": "2022-02-09T13:26:11.064Z"
   },
   {
    "duration": 378,
    "start_time": "2022-02-09T13:26:23.072Z"
   },
   {
    "duration": 16,
    "start_time": "2022-02-09T13:26:34.458Z"
   },
   {
    "duration": 383,
    "start_time": "2022-02-09T13:26:43.743Z"
   },
   {
    "duration": 478,
    "start_time": "2022-02-09T13:27:00.214Z"
   },
   {
    "duration": 446,
    "start_time": "2022-02-09T13:27:05.962Z"
   },
   {
    "duration": 16,
    "start_time": "2022-02-09T13:27:44.140Z"
   },
   {
    "duration": 15,
    "start_time": "2022-02-09T13:28:08.621Z"
   },
   {
    "duration": 499,
    "start_time": "2022-02-09T13:28:20.135Z"
   },
   {
    "duration": 16,
    "start_time": "2022-02-09T13:28:27.698Z"
   },
   {
    "duration": 26,
    "start_time": "2022-02-09T13:30:44.102Z"
   },
   {
    "duration": 26,
    "start_time": "2022-02-09T13:33:28.389Z"
   },
   {
    "duration": 18,
    "start_time": "2022-02-09T13:36:11.255Z"
   },
   {
    "duration": 501,
    "start_time": "2022-02-09T13:36:34.448Z"
   },
   {
    "duration": 81,
    "start_time": "2022-02-09T13:37:56.079Z"
   },
   {
    "duration": 35,
    "start_time": "2022-02-09T13:38:32.931Z"
   },
   {
    "duration": 413,
    "start_time": "2022-02-09T13:38:52.679Z"
   },
   {
    "duration": 506,
    "start_time": "2022-02-09T13:39:03.093Z"
   },
   {
    "duration": 32,
    "start_time": "2022-02-09T13:39:13.167Z"
   },
   {
    "duration": 404,
    "start_time": "2022-02-09T13:39:34.991Z"
   },
   {
    "duration": 29,
    "start_time": "2022-02-09T13:40:18.282Z"
   },
   {
    "duration": 3945,
    "start_time": "2022-02-09T13:40:25.179Z"
   },
   {
    "duration": 728,
    "start_time": "2022-02-09T13:40:49.516Z"
   },
   {
    "duration": 411,
    "start_time": "2022-02-09T13:42:07.090Z"
   },
   {
    "duration": 386,
    "start_time": "2022-02-09T13:42:22.804Z"
   },
   {
    "duration": 466,
    "start_time": "2022-02-09T13:42:36.910Z"
   },
   {
    "duration": 598,
    "start_time": "2022-02-09T13:43:39.570Z"
   },
   {
    "duration": 16,
    "start_time": "2022-02-09T13:44:03.773Z"
   },
   {
    "duration": 16,
    "start_time": "2022-02-09T13:44:20.820Z"
   },
   {
    "duration": 29,
    "start_time": "2022-02-09T13:44:26.628Z"
   },
   {
    "duration": 26,
    "start_time": "2022-02-09T13:45:10.450Z"
   },
   {
    "duration": 27,
    "start_time": "2022-02-09T13:47:59.252Z"
   },
   {
    "duration": 16,
    "start_time": "2022-02-09T13:48:04.094Z"
   },
   {
    "duration": 26,
    "start_time": "2022-02-09T13:48:10.898Z"
   },
   {
    "duration": 28,
    "start_time": "2022-02-09T13:48:16.328Z"
   },
   {
    "duration": 26,
    "start_time": "2022-02-09T13:48:22.273Z"
   },
   {
    "duration": 385,
    "start_time": "2022-02-09T13:48:37.292Z"
   },
   {
    "duration": 27,
    "start_time": "2022-02-09T13:48:48.936Z"
   },
   {
    "duration": 408,
    "start_time": "2022-02-09T13:49:07.296Z"
   },
   {
    "duration": 29,
    "start_time": "2022-02-09T13:49:19.060Z"
   },
   {
    "duration": 15,
    "start_time": "2022-02-09T13:54:10.344Z"
   },
   {
    "duration": 16,
    "start_time": "2022-02-09T13:54:50.938Z"
   },
   {
    "duration": 28,
    "start_time": "2022-02-09T13:54:59.704Z"
   },
   {
    "duration": 566,
    "start_time": "2022-02-09T13:58:15.922Z"
   },
   {
    "duration": 30,
    "start_time": "2022-02-09T13:58:21.889Z"
   },
   {
    "duration": 28,
    "start_time": "2022-02-09T13:59:30.795Z"
   },
   {
    "duration": 598,
    "start_time": "2022-02-09T13:59:45.764Z"
   },
   {
    "duration": 442,
    "start_time": "2022-02-09T14:09:33.572Z"
   },
   {
    "duration": 398,
    "start_time": "2022-02-09T14:10:01.479Z"
   },
   {
    "duration": 28,
    "start_time": "2022-02-09T14:10:13.769Z"
   },
   {
    "duration": 495,
    "start_time": "2022-02-09T15:26:57.453Z"
   },
   {
    "duration": 22,
    "start_time": "2022-02-09T15:30:20.226Z"
   },
   {
    "duration": 393,
    "start_time": "2022-02-09T15:32:07.225Z"
   },
   {
    "duration": 417,
    "start_time": "2022-02-09T15:32:24.696Z"
   },
   {
    "duration": 392,
    "start_time": "2022-02-09T15:33:16.759Z"
   },
   {
    "duration": 21,
    "start_time": "2022-02-09T15:33:25.816Z"
   },
   {
    "duration": 22,
    "start_time": "2022-02-09T15:33:42.785Z"
   },
   {
    "duration": 413,
    "start_time": "2022-02-09T15:34:16.548Z"
   },
   {
    "duration": 394,
    "start_time": "2022-02-09T15:34:36.482Z"
   },
   {
    "duration": 1020,
    "start_time": "2022-02-09T15:38:19.341Z"
   },
   {
    "duration": 37,
    "start_time": "2022-02-09T15:38:20.364Z"
   },
   {
    "duration": 63,
    "start_time": "2022-02-09T15:38:20.404Z"
   },
   {
    "duration": 20,
    "start_time": "2022-02-09T15:38:20.469Z"
   },
   {
    "duration": 20,
    "start_time": "2022-02-09T15:38:20.491Z"
   },
   {
    "duration": 81,
    "start_time": "2022-02-09T15:38:20.514Z"
   },
   {
    "duration": 31,
    "start_time": "2022-02-09T15:38:20.598Z"
   },
   {
    "duration": 34,
    "start_time": "2022-02-09T15:38:20.633Z"
   },
   {
    "duration": 33,
    "start_time": "2022-02-09T15:38:20.669Z"
   },
   {
    "duration": 17,
    "start_time": "2022-02-09T15:38:20.704Z"
   },
   {
    "duration": 21,
    "start_time": "2022-02-09T15:38:20.723Z"
   },
   {
    "duration": 23,
    "start_time": "2022-02-09T15:38:20.746Z"
   },
   {
    "duration": 850,
    "start_time": "2022-02-09T17:13:39.244Z"
   },
   {
    "duration": 39,
    "start_time": "2022-02-09T17:13:40.097Z"
   },
   {
    "duration": 328,
    "start_time": "2022-02-09T17:13:40.139Z"
   },
   {
    "duration": 84,
    "start_time": "2022-02-09T17:13:40.470Z"
   },
   {
    "duration": 84,
    "start_time": "2022-02-09T17:13:40.557Z"
   },
   {
    "duration": 123,
    "start_time": "2022-02-09T17:13:40.644Z"
   },
   {
    "duration": 111,
    "start_time": "2022-02-09T17:13:40.770Z"
   },
   {
    "duration": 79,
    "start_time": "2022-02-09T17:13:40.886Z"
   },
   {
    "duration": 98,
    "start_time": "2022-02-09T17:13:40.968Z"
   },
   {
    "duration": 83,
    "start_time": "2022-02-09T17:13:41.069Z"
   },
   {
    "duration": 84,
    "start_time": "2022-02-09T17:13:41.155Z"
   },
   {
    "duration": 82,
    "start_time": "2022-02-09T17:13:41.242Z"
   }
  ],
  "kernelspec": {
   "display_name": "Python 3",
   "language": "python",
   "name": "python3"
  },
  "language_info": {
   "codemirror_mode": {
    "name": "ipython",
    "version": 3
   },
   "file_extension": ".py",
   "mimetype": "text/x-python",
   "name": "python",
   "nbconvert_exporter": "python",
   "pygments_lexer": "ipython3",
   "version": "3.7.4"
  },
  "toc": {
   "base_numbering": 1,
   "nav_menu": {},
   "number_sections": true,
   "sideBar": true,
   "skip_h1_title": true,
   "title_cell": "Table of Contents",
   "title_sidebar": "Contents",
   "toc_cell": false,
   "toc_position": {},
   "toc_section_display": true,
   "toc_window_display": false
  }
 },
 "nbformat": 4,
 "nbformat_minor": 2
}
